{
 "cells": [
  {
   "cell_type": "code",
   "id": "initial_id",
   "metadata": {
    "collapsed": true,
    "ExecuteTime": {
     "end_time": "2025-02-06T02:44:12.750855Z",
     "start_time": "2025-02-06T02:44:12.747611Z"
    }
   },
   "source": [
    "import numpy as np\n",
    "from numpy.linalg import svd"
   ],
   "outputs": [],
   "execution_count": 2
  },
  {
   "metadata": {
    "ExecuteTime": {
     "end_time": "2025-02-06T03:04:08.782242Z",
     "start_time": "2025-02-06T03:04:08.774256Z"
    }
   },
   "cell_type": "code",
   "source": [
    "A = np.array([[0, 2, 0], [-3, 0, 0], [0, 0, 1]])\n",
    "A"
   ],
   "id": "b1aa0a8846721886",
   "outputs": [
    {
     "data": {
      "text/plain": [
       "array([[ 0,  2,  0],\n",
       "       [-3,  0,  0],\n",
       "       [ 0,  0,  1]])"
      ]
     },
     "execution_count": 16,
     "metadata": {},
     "output_type": "execute_result"
    }
   ],
   "execution_count": 16
  },
  {
   "metadata": {
    "ExecuteTime": {
     "end_time": "2025-02-06T03:10:32.795855Z",
     "start_time": "2025-02-06T03:10:32.792825Z"
    }
   },
   "cell_type": "code",
   "source": [
    "u, s, vh = svd(A)\n",
    "A_1 = s @ u @ v.T"
   ],
   "id": "b7d48f1447b253b3",
   "outputs": [],
   "execution_count": 27
  },
  {
   "metadata": {
    "ExecuteTime": {
     "end_time": "2025-02-06T03:13:48.433823Z",
     "start_time": "2025-02-06T03:13:48.415385Z"
    }
   },
   "cell_type": "code",
   "source": [
    "s1 = s[0]\n",
    "u1 = u[:, 0]\n",
    "v1 = vh[0, :]\n",
    "u2 = u[:, 1]\n",
    "v2 = vh[1, :]\n",
    "A2 = s[0] * np.outer(u1, v1) + s[1] * np.outer(u2, v2)\n",
    "A2"
   ],
   "id": "fc455678de95446b",
   "outputs": [
    {
     "data": {
      "text/plain": [
       "array([[ 0.,  2.,  0.],\n",
       "       [-3.,  0.,  0.],\n",
       "       [ 0.,  0.,  0.]])"
      ]
     },
     "execution_count": 33,
     "metadata": {},
     "output_type": "execute_result"
    }
   ],
   "execution_count": 33
  },
  {
   "metadata": {
    "ExecuteTime": {
     "end_time": "2025-02-06T03:13:59.061190Z",
     "start_time": "2025-02-06T03:13:59.056507Z"
    }
   },
   "cell_type": "code",
   "source": "s[2]",
   "id": "90d4457cd4f2457f",
   "outputs": [
    {
     "data": {
      "text/plain": [
       "np.float64(1.0)"
      ]
     },
     "execution_count": 35,
     "metadata": {},
     "output_type": "execute_result"
    }
   ],
   "execution_count": 35
  },
  {
   "metadata": {
    "ExecuteTime": {
     "end_time": "2025-02-06T03:10:57.239699Z",
     "start_time": "2025-02-06T03:10:57.234053Z"
    }
   },
   "cell_type": "code",
   "source": "s[1]",
   "id": "f211fb6204d8cfc0",
   "outputs": [
    {
     "data": {
      "text/plain": [
       "np.float64(2.0)"
      ]
     },
     "execution_count": 29,
     "metadata": {},
     "output_type": "execute_result"
    }
   ],
   "execution_count": 29
  },
  {
   "metadata": {
    "ExecuteTime": {
     "end_time": "2025-02-06T03:14:23.471147Z",
     "start_time": "2025-02-06T03:14:23.466034Z"
    }
   },
   "cell_type": "code",
   "source": "np.linalg.norm(A - A2, 2)",
   "id": "47810fbbb8f34db2",
   "outputs": [
    {
     "data": {
      "text/plain": [
       "np.float64(1.0)"
      ]
     },
     "execution_count": 36,
     "metadata": {},
     "output_type": "execute_result"
    }
   ],
   "execution_count": 36
  },
  {
   "metadata": {
    "ExecuteTime": {
     "end_time": "2025-02-06T03:05:47.378788Z",
     "start_time": "2025-02-06T03:05:47.374302Z"
    }
   },
   "cell_type": "code",
   "source": "u[0] @ v[0].T",
   "id": "cb9c9a14b17b4d6d",
   "outputs": [
    {
     "data": {
      "text/plain": [
       "np.float64(0.0)"
      ]
     },
     "execution_count": 23,
     "metadata": {},
     "output_type": "execute_result"
    }
   ],
   "execution_count": 23
  },
  {
   "metadata": {
    "ExecuteTime": {
     "end_time": "2025-02-06T02:53:00.120514Z",
     "start_time": "2025-02-06T02:53:00.114958Z"
    }
   },
   "cell_type": "code",
   "source": "np.linalg.eig(A @ A.T)[0]",
   "id": "5546f3aafd9867af",
   "outputs": [
    {
     "data": {
      "text/plain": [
       "array([ 6.48334192e+02,  1.66580756e+00,  4.62653469e-15, -1.61209025e-14])"
      ]
     },
     "execution_count": 14,
     "metadata": {},
     "output_type": "execute_result"
    }
   ],
   "execution_count": 14
  },
  {
   "metadata": {
    "ExecuteTime": {
     "end_time": "2025-02-06T02:52:45.629278Z",
     "start_time": "2025-02-06T02:52:45.625091Z"
    }
   },
   "cell_type": "code",
   "source": [
    "for i in np.linalg.eig(A @ A.T)[0]:\n",
    "    print(np.sqrt(i))"
   ],
   "id": "2339333864104137",
   "outputs": [
    {
     "name": "stdout",
     "output_type": "stream",
     "text": [
      "25.462407436036393\n",
      "1.2906616757612295\n",
      "6.801863490668582e-08\n",
      "nan\n"
     ]
    },
    {
     "name": "stderr",
     "output_type": "stream",
     "text": [
      "/var/folders/kr/wftdhl5d7p737kpxp30dm9w00000gp/T/ipykernel_11101/580383820.py:2: RuntimeWarning: invalid value encountered in sqrt\n",
      "  print(np.sqrt(i))\n"
     ]
    }
   ],
   "execution_count": 13
  },
  {
   "metadata": {
    "ExecuteTime": {
     "end_time": "2025-02-06T02:48:04.251469Z",
     "start_time": "2025-02-06T02:48:04.239632Z"
    }
   },
   "cell_type": "code",
   "source": "svd(A)",
   "id": "b9bcee164c88ff69",
   "outputs": [
    {
     "data": {
      "text/plain": [
       "SVDResult(U=array([[ 0.16018224,  0.98708746],\n",
       "       [ 0.98708746, -0.16018224]]), S=array([3.3409995 , 2.19948229]), Vh=array([[ 0.93428467,  0.19955794,  0.29544675],\n",
       "       [ 0.23029998, -0.9703907 , -0.07282725],\n",
       "       [-0.27216553, -0.13608276,  0.95257934]]))"
      ]
     },
     "execution_count": 9,
     "metadata": {},
     "output_type": "execute_result"
    }
   ],
   "execution_count": 9
  },
  {
   "metadata": {
    "ExecuteTime": {
     "end_time": "2025-02-06T02:55:00.915124Z",
     "start_time": "2025-02-06T02:55:00.909334Z"
    }
   },
   "cell_type": "code",
   "source": [
    "import numpy as np\n",
    "\n",
    "def rref(A, tol=1e-10):\n",
    "    A = A.astype(float)  # work with floats\n",
    "    rows, cols = A.shape\n",
    "    r = 0  # row index for pivot\n",
    "\n",
    "    for c in range(cols):\n",
    "        # Find the pivot row\n",
    "        pivot = np.argmax(np.abs(A[r:rows, c])) + r\n",
    "        if np.abs(A[pivot, c]) < tol:\n",
    "            continue  # no pivot in this column, move to next column\n",
    "        # Swap current row and pivot row\n",
    "        A[[r, pivot]] = A[[pivot, r]]\n",
    "        # Normalize pivot row\n",
    "        A[r] = A[r] / A[r, c]\n",
    "        # Eliminate entries in the current column\n",
    "        for i in range(rows):\n",
    "            if i != r:\n",
    "                A[i] = A[i] - A[i, c] * A[r]\n",
    "        r += 1\n",
    "        if r == rows:\n",
    "            break\n",
    "    return A\n",
    "\n",
    "A_rref = rref(A)\n",
    "print(\"RREF of A:\")\n",
    "print(A_rref)\n"
   ],
   "id": "340458bc1b698d0",
   "outputs": [
    {
     "name": "stdout",
     "output_type": "stream",
     "text": [
      "RREF of A:\n",
      "[[ 1.00000000e+00  0.00000000e+00 -1.00000000e+00]\n",
      " [ 0.00000000e+00  1.00000000e+00  2.00000000e+00]\n",
      " [ 0.00000000e+00  0.00000000e+00  1.66533454e-15]\n",
      " [ 0.00000000e+00  0.00000000e+00  6.66133815e-16]]\n"
     ]
    }
   ],
   "execution_count": 15
  },
  {
   "metadata": {},
   "cell_type": "code",
   "outputs": [],
   "execution_count": null,
   "source": "",
   "id": "bc8aa182ee98f54f"
  }
 ],
 "metadata": {
  "kernelspec": {
   "display_name": "Python 3",
   "language": "python",
   "name": "python3"
  },
  "language_info": {
   "codemirror_mode": {
    "name": "ipython",
    "version": 2
   },
   "file_extension": ".py",
   "mimetype": "text/x-python",
   "name": "python",
   "nbconvert_exporter": "python",
   "pygments_lexer": "ipython2",
   "version": "2.7.6"
  }
 },
 "nbformat": 4,
 "nbformat_minor": 5
}
