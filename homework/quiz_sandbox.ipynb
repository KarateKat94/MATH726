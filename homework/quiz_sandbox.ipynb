{
 "cells": [
  {
   "cell_type": "code",
   "id": "initial_id",
   "metadata": {
    "collapsed": true,
    "ExecuteTime": {
     "end_time": "2025-02-11T01:15:06.691222Z",
     "start_time": "2025-02-11T01:15:06.588892Z"
    }
   },
   "source": "import numpy as np",
   "outputs": [],
   "execution_count": 2
  },
  {
   "metadata": {
    "ExecuteTime": {
     "end_time": "2025-02-11T01:38:04.709921Z",
     "start_time": "2025-02-11T01:38:04.705074Z"
    }
   },
   "cell_type": "code",
   "source": [
    "A = np.array([[3,-3], [9,-10], [-21, 23]])\n",
    "A"
   ],
   "id": "bc8aa182ee98f54f",
   "outputs": [
    {
     "data": {
      "text/plain": [
       "array([[  3,  -3],\n",
       "       [  9, -10],\n",
       "       [-21,  23]])"
      ]
     },
     "execution_count": 26,
     "metadata": {},
     "output_type": "execute_result"
    }
   ],
   "execution_count": 26
  },
  {
   "metadata": {
    "ExecuteTime": {
     "end_time": "2025-02-11T01:38:05.253704Z",
     "start_time": "2025-02-11T01:38:05.250763Z"
    }
   },
   "cell_type": "code",
   "source": "P = A @ np.linalg.inv(A.T@A)@A.T",
   "id": "9609f1be29f48cd2",
   "outputs": [],
   "execution_count": 27
  },
  {
   "metadata": {
    "ExecuteTime": {
     "end_time": "2025-02-11T01:38:05.647164Z",
     "start_time": "2025-02-11T01:38:05.643094Z"
    }
   },
   "cell_type": "code",
   "source": "P",
   "id": "e3a0bcac3d89695c",
   "outputs": [
    {
     "data": {
      "text/plain": [
       "array([[ 0.83333333, -0.33333333, -0.16666667],\n",
       "       [-0.33333333,  0.33333333, -0.33333333],\n",
       "       [-0.16666667, -0.33333333,  0.83333333]])"
      ]
     },
     "execution_count": 28,
     "metadata": {},
     "output_type": "execute_result"
    }
   ],
   "execution_count": 28
  },
  {
   "metadata": {
    "ExecuteTime": {
     "end_time": "2025-02-11T01:38:06.114182Z",
     "start_time": "2025-02-11T01:38:06.109983Z"
    }
   },
   "cell_type": "code",
   "source": [
    "b = np.array([-11, -36, 80])\n",
    "\n",
    "for row in P:\n",
    "    print(abs(row-b))"
   ],
   "id": "31be33d12fe7cc66",
   "outputs": [
    {
     "name": "stdout",
     "output_type": "stream",
     "text": [
      "[11.83333333 35.66666667 80.16666667]\n",
      "[10.66666667 36.33333333 80.33333333]\n",
      "[10.83333333 35.66666667 79.16666667]\n"
     ]
    }
   ],
   "execution_count": 29
  },
  {
   "metadata": {
    "ExecuteTime": {
     "end_time": "2025-02-11T01:38:07.338889Z",
     "start_time": "2025-02-11T01:38:07.334406Z"
    }
   },
   "cell_type": "code",
   "source": "P @ b",
   "id": "18e8c610c18c6c15",
   "outputs": [
    {
     "data": {
      "text/plain": [
       "array([-10.5, -35. ,  80.5])"
      ]
     },
     "execution_count": 30,
     "metadata": {},
     "output_type": "execute_result"
    }
   ],
   "execution_count": 30
  },
  {
   "metadata": {
    "ExecuteTime": {
     "end_time": "2025-02-11T01:22:59.467673Z",
     "start_time": "2025-02-11T01:22:59.462112Z"
    }
   },
   "cell_type": "code",
   "source": "np.identity(2) - P",
   "id": "91dfe3676d111c1b",
   "outputs": [
    {
     "data": {
      "text/plain": [
       "array([[ 0.125  , -0.40625],\n",
       "       [-0.0625 ,  0.46875]])"
      ]
     },
     "execution_count": 18,
     "metadata": {},
     "output_type": "execute_result"
    }
   ],
   "execution_count": 18
  },
  {
   "metadata": {},
   "cell_type": "code",
   "outputs": [],
   "execution_count": null,
   "source": "",
   "id": "d3cb1712f3d652e5"
  }
 ],
 "metadata": {
  "kernelspec": {
   "display_name": "Python 3",
   "language": "python",
   "name": "python3"
  },
  "language_info": {
   "codemirror_mode": {
    "name": "ipython",
    "version": 2
   },
   "file_extension": ".py",
   "mimetype": "text/x-python",
   "name": "python",
   "nbconvert_exporter": "python",
   "pygments_lexer": "ipython2",
   "version": "2.7.6"
  }
 },
 "nbformat": 4,
 "nbformat_minor": 5
}
